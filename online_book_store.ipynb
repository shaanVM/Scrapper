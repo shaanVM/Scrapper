{
 "cells": [
  {
   "cell_type": "markdown",
   "id": "31202bde",
   "metadata": {},
   "source": [
    "# **Web Scrapping**"
   ]
  },
  {
   "cell_type": "markdown",
   "id": "bd715681",
   "metadata": {},
   "source": [
    "Web scraping is the process of extracting and processing large amounts of data from the web. There maybe a situation where you find data from the web, and there is no direct way to download it, web scraping will be your saviour and using Python makes it easier to extract the data into a useful form that can be processed and analyzed"
   ]
  },
  {
   "cell_type": "markdown",
   "id": "22ccd979",
   "metadata": {},
   "source": [
    "Scrap the data from the web using python library like\n",
    "* BeautifulSoup\n",
    "* Requests"
   ]
  },
  {
   "cell_type": "markdown",
   "id": "ed8b4422",
   "metadata": {},
   "source": [
    "The website I am gonna Scrap is http://books.toscrape.com/"
   ]
  },
  {
   "cell_type": "markdown",
   "id": "af8edd3a",
   "metadata": {},
   "source": [
    "Things to extract from this website\n",
    "* Titles\n",
    "* Rating\n",
    "* Price"
   ]
  },
  {
   "cell_type": "code",
   "execution_count": 3,
   "id": "63cd8435",
   "metadata": {},
   "outputs": [],
   "source": [
    "# Creating a Empty list of things that we want from web\n",
    "Title=[]\n",
    "Rating=[]\n",
    "Price=[]\n",
    "\n",
    "#web page\n",
    "page='http://books.toscrape.com/'"
   ]
  },
  {
   "cell_type": "code",
   "execution_count": null,
   "id": "ca10cd8e",
   "metadata": {},
   "outputs": [],
   "source": [
    "#import library\n",
    "import requests as rq"
   ]
  },
  {
   "cell_type": "code",
   "execution_count": 4,
   "id": "c8e6b4cb",
   "metadata": {},
   "outputs": [
    {
     "ename": "NameError",
     "evalue": "name 'requests' is not defined",
     "output_type": "error",
     "traceback": [
      "\u001b[1;31m---------------------------------------------------------------------------\u001b[0m",
      "\u001b[1;31mNameError\u001b[0m                                 Traceback (most recent call last)",
      "\u001b[1;32m~\\AppData\\Local\\Temp\\ipykernel_8728\\1316717870.py\u001b[0m in \u001b[0;36m<module>\u001b[1;34m\u001b[0m\n\u001b[0;32m      1\u001b[0m \u001b[1;31m# Getting the data from a page and convert from object of type requests to object of type beautifulSoup\u001b[0m\u001b[1;33m\u001b[0m\u001b[1;33m\u001b[0m\u001b[0m\n\u001b[0;32m      2\u001b[0m \u001b[1;32mfor\u001b[0m \u001b[0melement\u001b[0m \u001b[1;32min\u001b[0m \u001b[0mpage\u001b[0m\u001b[1;33m:\u001b[0m\u001b[1;33m\u001b[0m\u001b[1;33m\u001b[0m\u001b[0m\n\u001b[1;32m----> 3\u001b[1;33m     \u001b[0mreq\u001b[0m\u001b[1;33m=\u001b[0m\u001b[0mrequests\u001b[0m\u001b[1;33m.\u001b[0m\u001b[0mget\u001b[0m\u001b[1;33m(\u001b[0m\u001b[0melement\u001b[0m\u001b[1;33m)\u001b[0m\u001b[1;33m\u001b[0m\u001b[1;33m\u001b[0m\u001b[0m\n\u001b[0m\u001b[0;32m      4\u001b[0m     \u001b[0msoup\u001b[0m\u001b[1;33m=\u001b[0m\u001b[0mbs4\u001b[0m\u001b[1;33m.\u001b[0m\u001b[0mBeautifulSoup\u001b[0m\u001b[1;33m(\u001b[0m\u001b[0mreq\u001b[0m\u001b[1;33m.\u001b[0m\u001b[0mtext\u001b[0m\u001b[1;33m,\u001b[0m\u001b[1;34m'html.parser'\u001b[0m\u001b[1;33m)\u001b[0m\u001b[1;33m\u001b[0m\u001b[1;33m\u001b[0m\u001b[0m\n",
      "\u001b[1;31mNameError\u001b[0m: name 'requests' is not defined"
     ]
    }
   ],
   "source": [
    "# Getting the data from a page and convert from object of type requests to object of type beautifulSoup\n",
    "for element in page:\n",
    "    req=requests.get(element)\n",
    "    soup=bs4.BeautifulSoup(req.text,'html.parser')"
   ]
  },
  {
   "cell_type": "code",
   "execution_count": null,
   "id": "8e3944ee",
   "metadata": {},
   "outputs": [],
   "source": []
  }
 ],
 "metadata": {
  "kernelspec": {
   "display_name": "Python 3 (ipykernel)",
   "language": "python",
   "name": "python3"
  },
  "language_info": {
   "codemirror_mode": {
    "name": "ipython",
    "version": 3
   },
   "file_extension": ".py",
   "mimetype": "text/x-python",
   "name": "python",
   "nbconvert_exporter": "python",
   "pygments_lexer": "ipython3",
   "version": "3.9.13"
  }
 },
 "nbformat": 4,
 "nbformat_minor": 5
}
